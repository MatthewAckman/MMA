{
  "nbformat": 4,
  "nbformat_minor": 0,
  "metadata": {
    "colab": {
      "name": "MMA860_intro",
      "provenance": [],
      "collapsed_sections": [],
      "authorship_tag": "ABX9TyOo8ErPH2dw+sg2lcwbsT61",
      "include_colab_link": true
    },
    "kernelspec": {
      "name": "ir",
      "display_name": "R"
    },
    "language_info": {
      "name": "R"
    }
  },
  "cells": [
    {
      "cell_type": "markdown",
      "metadata": {
        "id": "view-in-github",
        "colab_type": "text"
      },
      "source": [
        "<a href=\"https://colab.research.google.com/github/MatthewAckman/MMA/blob/main/MMA860_intro.ipynb\" target=\"_parent\"><img src=\"https://colab.research.google.com/assets/colab-badge.svg\" alt=\"Open In Colab\"/></a>"
      ]
    },
    {
      "cell_type": "markdown",
      "source": [
        "MMA 860"
      ],
      "metadata": {
        "id": "62EmmCBZaza9"
      }
    },
    {
      "cell_type": "code",
      "execution_count": null,
      "metadata": {
        "id": "0AXCRj7raJZ7"
      },
      "outputs": [],
      "source": [
        "## Load packages\n",
        "\n",
        "library(dplyr)\n",
        "library(tidyverse)\n",
        "library(ggplot2)\n",
        "library(readxl)"
      ]
    },
    {
      "cell_type": "code",
      "source": [
        "## Load data\n",
        "\n",
        "url <- \"https://smithlearning.ca/content/enforced/C-MMA860-2023B/Course%20Files/queens_template/module_1/data/Smoking_Data_2000_Rows.xls?ou=579021\"\n",
        "\n",
        "df <- read.xlsx(url, sheet=1)"
      ],
      "metadata": {
        "id": "cox4QgRlaNYi",
        "colab": {
          "base_uri": "https://localhost:8080/",
          "height": 252
        },
        "outputId": "05c40b46-aa20-47f3-c8cb-e2f3f985b78f"
      },
      "execution_count": null,
      "outputs": [
        {
          "output_type": "stream",
          "name": "stderr",
          "text": [
            "Warning message in unzip(xlsxFile, exdir = xmlDir):\n",
            "“error 1 in extracting from zip file”\n"
          ]
        },
        {
          "output_type": "error",
          "ename": "ERROR",
          "evalue": "ignored",
          "traceback": [
            "Error in file(con, \"r\"): invalid 'description' argument\nTraceback:\n",
            "1. read.xlsx(url, sheet = 1)",
            "2. read.xlsx.default(url, sheet = 1)",
            "3. paste(readUTF8(workbookRelsXML), collapse = \"\")",
            "4. readUTF8(workbookRelsXML)",
            "5. readLines(x, warn = FALSE, encoding = \"UTF-8\")",
            "6. file(con, \"r\")"
          ]
        }
      ]
    },
    {
      "cell_type": "code",
      "source": [
        ""
      ],
      "metadata": {
        "colab": {
          "base_uri": "https://localhost:8080/",
          "height": 130
        },
        "id": "G9-vF2yWdFKe",
        "outputId": "e1251876-5d7a-42b0-c901-502283d71c20"
      },
      "execution_count": null,
      "outputs": [
        {
          "output_type": "error",
          "ename": "ERROR",
          "evalue": "ignored",
          "traceback": [
            "Error in parse(text = x, srcfile = src): <text>:1:6: unexpected '['\n1: ll = [\n         ^\nTraceback:\n"
          ]
        }
      ]
    },
    {
      "cell_type": "code",
      "source": [
        ""
      ],
      "metadata": {
        "id": "ziszh1qpdxHL"
      },
      "execution_count": null,
      "outputs": []
    }
  ]
}